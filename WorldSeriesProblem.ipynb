{
 "cells": [
  {
   "cell_type": "markdown",
   "id": "da288581",
   "metadata": {},
   "source": [
    "$V(i,j)$ : argent dont on dispose quand $A$ a gagné $i$ fois et $B$ a gagné $j$ fois.\n",
    "\n",
    "$x(i,j)$ : ce qu'on va miser lorsque $A$ a gagné $i$ fois et $B$ a gagné $j$ fois.\n",
    "\n",
    "On a :\n",
    "$$V(i,j)-x(i,j) = V(i,j+1), \\ \\ V(i,j)+x(i,j) = V(i+1, j)$$\n",
    "avec la condition terminale \n",
    "$$V(4, j) = 200, \\ \\ V(i, 4)=0$$\n",
    "On en déduit \n",
    "$$V(i,j) = \\frac{1}{2} \\left( V(i+1, j) + V(i, j+1) \\right), \\ \\`x(i,j) = \\frac{1}{2} \\left( V(i+1, j) - V(i, j+1) \\right)$$"
   ]
  },
  {
   "cell_type": "code",
   "execution_count": 13,
   "id": "da94521b",
   "metadata": {},
   "outputs": [
    {
     "name": "stdout",
     "output_type": "stream",
     "text": [
      "12.5\n"
     ]
    }
   ],
   "source": [
    "def dynamicProgrammingV():\n",
    "    V = {}\n",
    "    x = {}\n",
    "    for i in range(0, 3+1):\n",
    "        V[(4,i)] = 200\n",
    "        V[(i, 4)] = 0\n",
    "    lst_idx = []\n",
    "    for s in range(7+1):\n",
    "        for i in range(s+1):\n",
    "            if(i <= 4 and s-i <= 4 and not(i ==4 and s-i == 4)):\n",
    "                lst_idx.append((i, s-i))\n",
    "    lst_idx.reverse()\n",
    "\n",
    "    for idx in lst_idx:\n",
    "        (i,j) = idx\n",
    "        if((i,j) not in V):\n",
    "            V[(i,j)] = (V[(i+1,j)] + V[(i, j+1)]) / 2\n",
    "            x[(i,j)] = (V[(i+1,j)] - V[(i, j+1)]) / 2\n",
    "    \n",
    "    return V, x\n",
    "\n",
    "V, x = dynamicProgrammingV()\n",
    "print(x[(3, 0)])"
   ]
  }
 ],
 "metadata": {
  "kernelspec": {
   "display_name": "base",
   "language": "python",
   "name": "python3"
  },
  "language_info": {
   "codemirror_mode": {
    "name": "ipython",
    "version": 3
   },
   "file_extension": ".py",
   "mimetype": "text/x-python",
   "name": "python",
   "nbconvert_exporter": "python",
   "pygments_lexer": "ipython3",
   "version": "3.12.7"
  }
 },
 "nbformat": 4,
 "nbformat_minor": 5
}
